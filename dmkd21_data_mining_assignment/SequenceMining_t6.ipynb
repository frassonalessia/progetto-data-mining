{
 "cells": [
  {
   "cell_type": "markdown",
   "id": "3eae1ab7-fa25-4b98-a6b4-740b1d19691a",
   "metadata": {},
   "source": [
    "$\\newcommand{\\ol}{\\overline{l}}$\n",
    "$\\newcommand{\\os}{\\overline{s}}$\n",
    "\n",
    "## Sequence Mining"
   ]
  },
  {
   "cell_type": "code",
   "execution_count": 12,
   "id": "2ca29cfd-871c-445f-a033-91e7b6ff4351",
   "metadata": {},
   "outputs": [],
   "source": [
    "import nbimporter\n",
    "from MakeTransactions_t5 import make_cal_transactions\n",
    "PATH = '../../../datasets/pmdata/'"
   ]
  },
  {
   "cell_type": "markdown",
   "id": "d6595613-fc7c-42d3-a891-b41a69737a48",
   "metadata": {},
   "source": [
    "Let us load the transactions first:"
   ]
  },
  {
   "cell_type": "code",
   "execution_count": 13,
   "id": "c87825fd-c765-4cba-8e10-cfdd091100a4",
   "metadata": {},
   "outputs": [],
   "source": [
    "t = make_cal_transactions(PATH, [1,2,3,4], n_clusters=7)"
   ]
  },
  {
   "cell_type": "markdown",
   "id": "56d784ad-3398-48be-8978-f6c0e8fb8c10",
   "metadata": {},
   "source": [
    "Each transaction may be seen as a sequence of items if ordered according to their timestamp"
   ]
  },
  {
   "cell_type": "code",
   "execution_count": 14,
   "id": "2089c652-110a-459a-a1d3-757aca59368c",
   "metadata": {},
   "outputs": [],
   "source": [
    "for tr in t:\n",
    "    tr.sort(key = lambda x: x[0] )"
   ]
  },
  {
   "cell_type": "code",
   "execution_count": 15,
   "id": "081efe61-ba41-49c2-8885-7ac4a724cd77",
   "metadata": {},
   "outputs": [],
   "source": [
    "t = [ [i[1] for i in tr ]   for tr in t ]"
   ]
  },
  {
   "cell_type": "code",
   "execution_count": 16,
   "id": "5a6604a9-4090-445b-a71f-0af24ffc4073",
   "metadata": {},
   "outputs": [
    {
     "data": {
      "text/plain": [
       "['calories cluster: 3, day: Friday',\n",
       " 'calories cluster: 3, day: Friday',\n",
       " 'calories cluster: 3, day: Friday',\n",
       " 'calories cluster: 3, day: Friday',\n",
       " 'calories cluster: 3, day: Friday',\n",
       " 'calories cluster: 3, day: Friday',\n",
       " 'calories cluster: 2, day: Friday',\n",
       " 'calories cluster: 2, day: Friday',\n",
       " 'calories cluster: 0, day: Friday',\n",
       " 'calories cluster: 4, day: Friday',\n",
       " 'calories cluster: 4, day: Friday',\n",
       " 'calories cluster: 4, day: Friday',\n",
       " 'calories cluster: 0, day: Friday',\n",
       " 'calories cluster: 4, day: Friday',\n",
       " 'calories cluster: 4, day: Friday',\n",
       " 'calories cluster: 1, day: Friday',\n",
       " 'calories cluster: 5, day: Friday',\n",
       " 'calories cluster: 2, day: Friday',\n",
       " 'calories cluster: 3, day: Friday',\n",
       " 'calories cluster: 4, day: Friday',\n",
       " 'calories cluster: 1, day: Friday',\n",
       " 'calories cluster: 0, day: Friday',\n",
       " 'calories cluster: 2, day: Friday',\n",
       " 'calories cluster: 4, day: Friday']"
      ]
     },
     "execution_count": 16,
     "metadata": {},
     "output_type": "execute_result"
    }
   ],
   "source": [
    "t[0]"
   ]
  },
  {
   "cell_type": "markdown",
   "id": "a08e8d5e-9ada-4f1f-bb31-7abef0beedf1",
   "metadata": {},
   "source": [
    "Given a sequence of labels $s = [l_1, \\ldots, l_n]$ a sequence $p = [\\ol_{1},\\ldots ,\\ol_m]$  is a **pattern of** $s$ if and only if there exists a monotonic strictly increasing function $f: \\{\n",
    "1, \\ldots m\\} \\rightarrow \\{1,\\ldots, n\\}$ such that for every $i \\in \\{\n",
    "1, \\ldots m\\}$ we have $l_{f(i)} = \\ol_{i}$, if such a function exists  we will write $p \\in s$ and $p \\notin s$\n",
    "otherwise.\n"
   ]
  },
  {
   "cell_type": "markdown",
   "id": "5833137c-5878-49c4-b72f-f59547d8efe7",
   "metadata": {},
   "source": [
    "Given a multiset of sequences $S =s_1, \\ldots, s_N$ and a pattern $p$ we define the support of $p \\in S$, written $sup_S(p)$, as $sup_S(p)= \\frac{\\{i: p \\in s_i\\}}{N}$."
   ]
  },
  {
   "cell_type": "markdown",
   "id": "e57dbfeb-3af4-4e4a-8005-f7aa2e16042e",
   "metadata": {},
   "source": [
    "A pattern association rule $par$ is a rule of the form $ s \\rightarrow \\os$ where $s$ and $\\os$ are sequences.\n",
    "Given a multiset of sequences $S =s_1, \\ldots, s_N$ the support of the rule $par$ in $S$, written\n",
    "$sup_S(par)$, is $sup_S(par) = sup_S(s \\cdot \\os)$ where $s \\cdot \\os$ is the sequence concatenation \n",
    "operation. Moreover, the confidence of $par$ in $S$, written $conf_S(par)$, is the value \n",
    "$conf_S(par)= \\frac{sup_S(par)}{sup_S(s)}$.\n"
   ]
  },
  {
   "cell_type": "markdown",
   "id": "41f38379-2ee7-4f1b-8385-bc206ae669d4",
   "metadata": {},
   "source": [
    "## Example"
   ]
  },
  {
   "cell_type": "markdown",
   "id": "72b78ea2-7f87-440e-8404-4219588ce79a",
   "metadata": {},
   "source": [
    "You can use regvular expression for detecting pattern elegantly but you have to use a special separator that DOES NOT appear as a character or pattern in ANY transaction (be careful!)."
   ]
  },
  {
   "cell_type": "code",
   "execution_count": 20,
   "id": "97b79b06-9724-46af-94b8-97f18f18d14f",
   "metadata": {},
   "outputs": [],
   "source": [
    "SEP = '<!>'"
   ]
  },
  {
   "cell_type": "code",
   "execution_count": 103,
   "id": "d7e12dd2-77ce-4ae0-82a8-263ee5e6828b",
   "metadata": {},
   "outputs": [],
   "source": [
    " p = ['calories cluster: 3, day: Friday',\n",
    " 'calories cluster: 4, day: Friday',\n",
    " 'calories cluster: 0, day: Friday',     \n",
    " 'calories cluster: 0, day: Friday',     \n",
    " 'calories cluster: 2, day: Friday',\n",
    " 'calories cluster: 2, day: Friday'    ]"
   ]
  },
  {
   "cell_type": "code",
   "execution_count": 104,
   "id": "766988bf-b420-48a1-8e08-1b9690b20c41",
   "metadata": {},
   "outputs": [],
   "source": [
    "import re "
   ]
  },
  {
   "cell_type": "code",
   "execution_count": 105,
   "id": "c2d468f5-08c4-4151-a5c4-f53cb74e483a",
   "metadata": {},
   "outputs": [],
   "source": [
    "ttext = SEP + SEP.join(t[0]) + SEP"
   ]
  },
  {
   "cell_type": "code",
   "execution_count": 106,
   "id": "c7c00ef4-006a-4066-924f-ce7683a03c2f",
   "metadata": {},
   "outputs": [],
   "source": [
    "preg = '.*'.join([ re.escape(SEP + i + SEP) for i in p ])"
   ]
  },
  {
   "cell_type": "code",
   "execution_count": 107,
   "id": "e3d9b758-a1fe-41b3-a139-9a813c3833ae",
   "metadata": {},
   "outputs": [],
   "source": [
    "search = re.search(preg, ttext)\n",
    "match = search[0] if search != None else None"
   ]
  },
  {
   "cell_type": "code",
   "execution_count": 108,
   "id": "06562576-f28b-4854-a7b4-c465418f0b12",
   "metadata": {},
   "outputs": [
    {
     "name": "stdout",
     "output_type": "stream",
     "text": [
      "No Match\n"
     ]
    }
   ],
   "source": [
    "print(match.replace(SEP, '\\n')) if match != None else print('No Match')"
   ]
  },
  {
   "cell_type": "code",
   "execution_count": 109,
   "id": "c15d4a2e-b1b7-4557-a600-87453f976e47",
   "metadata": {},
   "outputs": [],
   "source": [
    "c = 0\n",
    "for tr in t:\n",
    "    ttext = SEP + SEP.join(tr) + SEP\n",
    "    preg = '.*'.join([ re.escape(SEP + i + SEP) for i in p ])\n",
    "    search = re.search(preg, ttext)\n",
    "    c = c + 1 if search else c"
   ]
  },
  {
   "cell_type": "code",
   "execution_count": 110,
   "id": "fc7e4325-b406-4e49-8576-8883dc3befa8",
   "metadata": {},
   "outputs": [],
   "source": [
    "sup_rule = c/len(t)"
   ]
  },
  {
   "cell_type": "code",
   "execution_count": 111,
   "id": "89c5d529-8d37-49c5-8f53-32ce2faec5c2",
   "metadata": {},
   "outputs": [],
   "source": [
    "p = ['calories cluster: 3, day: Friday',\n",
    " 'calories cluster: 4, day: Friday',\n",
    " 'calories cluster: 0, day: Friday', ]"
   ]
  },
  {
   "cell_type": "code",
   "execution_count": 112,
   "id": "e8579190-6919-47ea-bda1-ecb16d63a2dc",
   "metadata": {},
   "outputs": [],
   "source": [
    "c = 0\n",
    "for tr in t:\n",
    "    ttext = SEP + SEP.join(tr) + SEP\n",
    "    preg = '.*'.join([ re.escape(SEP + i + SEP) for i in p ])\n",
    "    search = re.search(preg, ttext)\n",
    "    c = c + 1 if search else c"
   ]
  },
  {
   "cell_type": "code",
   "execution_count": 113,
   "id": "a8f8e086-fbda-4119-8e4c-1825ddb46f82",
   "metadata": {},
   "outputs": [],
   "source": [
    "sup_antecedent = c/len(t)"
   ]
  },
  {
   "cell_type": "code",
   "execution_count": 114,
   "id": "14777293-c446-4522-bdcd-ed7aeb9723ab",
   "metadata": {},
   "outputs": [
    {
     "data": {
      "text/plain": [
       "0.07246376811594202"
      ]
     },
     "execution_count": 114,
     "metadata": {},
     "output_type": "execute_result"
    }
   ],
   "source": [
    "sup_rule / sup_antecedent"
   ]
  },
  {
   "cell_type": "markdown",
   "id": "c978a255-10bc-4ff5-98eb-0b8f5c2cda49",
   "metadata": {},
   "source": [
    "## Assignment\n",
    "\n",
    "- Build a function ```extract_pattern_rules(seq, minsup, minconf, minlen, maxlen)``` \n",
    "that extracts all the pattern association rules from the set of sequences $seq$ with length within $minlen$ and $maxlen$ whose undelying pattern features support greater than $minsup$ and the confidence  the rule is \n",
    "greater than $minconf$;\n",
    "\n",
    "- on the extracted rules perform an anlysis with secondary measures similar to the one proposed during the lectures."
   ]
  },
  {
   "cell_type": "code",
   "execution_count": null,
   "id": "f4ac7bd7-4110-4124-8efa-e3930b568eb1",
   "metadata": {},
   "outputs": [],
   "source": []
  }
 ],
 "metadata": {
  "kernelspec": {
   "display_name": "Python 3 (ipykernel)",
   "language": "python",
   "name": "python3"
  },
  "language_info": {
   "codemirror_mode": {
    "name": "ipython",
    "version": 3
   },
   "file_extension": ".py",
   "mimetype": "text/x-python",
   "name": "python",
   "nbconvert_exporter": "python",
   "pygments_lexer": "ipython3",
   "version": "3.9.7"
  }
 },
 "nbformat": 4,
 "nbformat_minor": 5
}
