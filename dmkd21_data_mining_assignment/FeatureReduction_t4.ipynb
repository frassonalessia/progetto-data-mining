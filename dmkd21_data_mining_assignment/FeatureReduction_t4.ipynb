{
 "cells": [
  {
   "cell_type": "markdown",
   "id": "941d2ff5-3243-4238-ad8f-7c985d2dafc9",
   "metadata": {},
   "source": [
    "$\\newcommand{\\bbT}{\\mathbb{T}}$\n",
    "$\\newcommand{\\bbR}{\\mathbb{R}}$\n",
    "$\\newcommand{\\bbL}{\\mathbb{L}}$\n",
    "$\\newcommand{\\oc}{\\overline{c}}$\n",
    "$\\newcommand{\\ol}{\\overline{l}}$"
   ]
  },
  {
   "cell_type": "markdown",
   "id": "ed0cfdfc-309e-44c1-b707-236a9f4f2f8e",
   "metadata": {},
   "source": [
    "## Feature Reduction"
   ]
  },
  {
   "cell_type": "markdown",
   "id": "2fae597a-0e11-4f67-b851-ada478a7141a",
   "metadata": {},
   "source": [
    "Under the assumption that we have completed task $t_4$ we may assume that all the tables/dataframes that we are considering are of the form $E\\subseteq \\bbT\\times \\bbR^m \\times \\bbL^n$ then we may have that the cardinality of $F = \\{ (r_1, \\ldots, r_m, l_1, \\ldots, l_n): \\exists t \\mbox{ s.t. } (t, r_1, \\ldots, r_m, l_1, \\ldots, l_n) \\in E \\}$ may be too large, for that reason we want to reduce the variety of possible events by implementing a function \n",
    "$fr:  \\rightarrow \\bbR^m \\times \\bbL^n \\rightarrow \\bbL^k$\n",
    "which transforms each tuple for each $( r_1, \\ldots, r_m, l_1, \\ldots, l_n) \\in E$ into a tuple $(l_1, \\ldots, l_k)$\n",
    "of labels in order that the cardinality of $F_{fr}=\\{ fr(r_1, \\ldots, r_m, l_1, \\ldots, l_n): \\exists t \\mbox{ s.t. } (t, r_1, \\ldots, r_m, l_1, \\ldots, l_n) \\in E \\}$ satisfies $|F_{fr}| << |F|$."
   ]
  },
  {
   "cell_type": "markdown",
   "id": "d8d0b4eb-ed6e-45d1-9e16-2b3afaa76253",
   "metadata": {},
   "source": [
    "let us notice that $fr$ may be composed of various functions that consider different part of the tuple $(r_1, \\ldots, r_m, l_1, \\ldots, l_n)$, we will make a concrete example using the calories example built at the previous step:"
   ]
  },
  {
   "cell_type": "code",
   "execution_count": 1,
   "id": "278f8db7-53bf-4cf2-8fa5-511bb9e2d95d",
   "metadata": {},
   "outputs": [],
   "source": [
    "import nbimporter\n",
    "from ETLBasics_t1 import calories_to_df\n",
    "import dateutil as du\n",
    "import pandas as pd\n",
    "from sklearn.cluster import KMeans\n",
    "import numpy as np\n",
    "import matplotlib.pyplot as plt\n",
    "from scipy.spatial import distance\n",
    "PATH = '../../../datasets/pmdata/'"
   ]
  },
  {
   "cell_type": "code",
   "execution_count": 2,
   "id": "fa3f739f-dee2-4a6f-8b6d-fa2c3598cdca",
   "metadata": {},
   "outputs": [
    {
     "data": {
      "text/html": [
       "<div>\n",
       "<style scoped>\n",
       "    .dataframe tbody tr th:only-of-type {\n",
       "        vertical-align: middle;\n",
       "    }\n",
       "\n",
       "    .dataframe tbody tr th {\n",
       "        vertical-align: top;\n",
       "    }\n",
       "\n",
       "    .dataframe thead tr th {\n",
       "        text-align: left;\n",
       "    }\n",
       "\n",
       "    .dataframe thead tr:last-of-type th {\n",
       "        text-align: right;\n",
       "    }\n",
       "</style>\n",
       "<table border=\"1\" class=\"dataframe\">\n",
       "  <thead>\n",
       "    <tr>\n",
       "      <th></th>\n",
       "      <th></th>\n",
       "      <th>c_mean</th>\n",
       "      <th>c_std</th>\n",
       "      <th>hour</th>\n",
       "      <th>eight_part_day</th>\n",
       "      <th>quarter_day</th>\n",
       "      <th>half_day</th>\n",
       "      <th>week_day</th>\n",
       "      <th>weekend</th>\n",
       "    </tr>\n",
       "    <tr>\n",
       "      <th></th>\n",
       "      <th></th>\n",
       "      <th></th>\n",
       "      <th></th>\n",
       "      <th></th>\n",
       "      <th></th>\n",
       "      <th></th>\n",
       "      <th></th>\n",
       "      <th></th>\n",
       "      <th></th>\n",
       "    </tr>\n",
       "    <tr>\n",
       "      <th>pid</th>\n",
       "      <th>tsh</th>\n",
       "      <th></th>\n",
       "      <th></th>\n",
       "      <th></th>\n",
       "      <th></th>\n",
       "      <th></th>\n",
       "      <th></th>\n",
       "      <th></th>\n",
       "      <th></th>\n",
       "    </tr>\n",
       "  </thead>\n",
       "  <tbody>\n",
       "    <tr>\n",
       "      <th rowspan=\"5\" valign=\"top\">1</th>\n",
       "      <th>2019-11-01_00</th>\n",
       "      <td>1.390000</td>\n",
       "      <td>0.000000</td>\n",
       "      <td>0</td>\n",
       "      <td>0</td>\n",
       "      <td>0</td>\n",
       "      <td>0</td>\n",
       "      <td>Friday</td>\n",
       "      <td>False</td>\n",
       "    </tr>\n",
       "    <tr>\n",
       "      <th>2019-11-01_01</th>\n",
       "      <td>1.397000</td>\n",
       "      <td>0.054222</td>\n",
       "      <td>1</td>\n",
       "      <td>0</td>\n",
       "      <td>0</td>\n",
       "      <td>0</td>\n",
       "      <td>Friday</td>\n",
       "      <td>False</td>\n",
       "    </tr>\n",
       "    <tr>\n",
       "      <th>2019-11-01_02</th>\n",
       "      <td>1.392333</td>\n",
       "      <td>0.018074</td>\n",
       "      <td>2</td>\n",
       "      <td>0</td>\n",
       "      <td>0</td>\n",
       "      <td>0</td>\n",
       "      <td>Friday</td>\n",
       "      <td>False</td>\n",
       "    </tr>\n",
       "    <tr>\n",
       "      <th>2019-11-01_03</th>\n",
       "      <td>1.399333</td>\n",
       "      <td>0.035217</td>\n",
       "      <td>3</td>\n",
       "      <td>1</td>\n",
       "      <td>0</td>\n",
       "      <td>0</td>\n",
       "      <td>Friday</td>\n",
       "      <td>False</td>\n",
       "    </tr>\n",
       "    <tr>\n",
       "      <th>2019-11-01_04</th>\n",
       "      <td>1.399333</td>\n",
       "      <td>0.035217</td>\n",
       "      <td>4</td>\n",
       "      <td>1</td>\n",
       "      <td>0</td>\n",
       "      <td>0</td>\n",
       "      <td>Friday</td>\n",
       "      <td>False</td>\n",
       "    </tr>\n",
       "    <tr>\n",
       "      <th>...</th>\n",
       "      <th>...</th>\n",
       "      <td>...</td>\n",
       "      <td>...</td>\n",
       "      <td>...</td>\n",
       "      <td>...</td>\n",
       "      <td>...</td>\n",
       "      <td>...</td>\n",
       "      <td>...</td>\n",
       "      <td>...</td>\n",
       "    </tr>\n",
       "    <tr>\n",
       "      <th rowspan=\"5\" valign=\"top\">3</th>\n",
       "      <th>2020-03-31_19</th>\n",
       "      <td>2.070667</td>\n",
       "      <td>1.175683</td>\n",
       "      <td>19</td>\n",
       "      <td>6</td>\n",
       "      <td>3</td>\n",
       "      <td>1</td>\n",
       "      <td>Tuesday</td>\n",
       "      <td>False</td>\n",
       "    </tr>\n",
       "    <tr>\n",
       "      <th>2020-03-31_20</th>\n",
       "      <td>1.552000</td>\n",
       "      <td>0.541876</td>\n",
       "      <td>20</td>\n",
       "      <td>6</td>\n",
       "      <td>3</td>\n",
       "      <td>1</td>\n",
       "      <td>Tuesday</td>\n",
       "      <td>False</td>\n",
       "    </tr>\n",
       "    <tr>\n",
       "      <th>2020-03-31_21</th>\n",
       "      <td>1.340000</td>\n",
       "      <td>0.000000</td>\n",
       "      <td>21</td>\n",
       "      <td>7</td>\n",
       "      <td>3</td>\n",
       "      <td>1</td>\n",
       "      <td>Tuesday</td>\n",
       "      <td>False</td>\n",
       "    </tr>\n",
       "    <tr>\n",
       "      <th>2020-03-31_22</th>\n",
       "      <td>1.340000</td>\n",
       "      <td>0.000000</td>\n",
       "      <td>22</td>\n",
       "      <td>7</td>\n",
       "      <td>3</td>\n",
       "      <td>1</td>\n",
       "      <td>Tuesday</td>\n",
       "      <td>False</td>\n",
       "    </tr>\n",
       "    <tr>\n",
       "      <th>2020-03-31_23</th>\n",
       "      <td>1.340000</td>\n",
       "      <td>0.000000</td>\n",
       "      <td>23</td>\n",
       "      <td>7</td>\n",
       "      <td>3</td>\n",
       "      <td>1</td>\n",
       "      <td>Tuesday</td>\n",
       "      <td>False</td>\n",
       "    </tr>\n",
       "  </tbody>\n",
       "</table>\n",
       "<p>10944 rows × 8 columns</p>\n",
       "</div>"
      ],
      "text/plain": [
       "                     c_mean     c_std hour eight_part_day quarter_day  \\\n",
       "                                                                        \n",
       "pid tsh                                                                 \n",
       "1   2019-11-01_00  1.390000  0.000000    0              0           0   \n",
       "    2019-11-01_01  1.397000  0.054222    1              0           0   \n",
       "    2019-11-01_02  1.392333  0.018074    2              0           0   \n",
       "    2019-11-01_03  1.399333  0.035217    3              1           0   \n",
       "    2019-11-01_04  1.399333  0.035217    4              1           0   \n",
       "...                     ...       ...  ...            ...         ...   \n",
       "3   2020-03-31_19  2.070667  1.175683   19              6           3   \n",
       "    2020-03-31_20  1.552000  0.541876   20              6           3   \n",
       "    2020-03-31_21  1.340000  0.000000   21              7           3   \n",
       "    2020-03-31_22  1.340000  0.000000   22              7           3   \n",
       "    2020-03-31_23  1.340000  0.000000   23              7           3   \n",
       "\n",
       "                  half_day week_day weekend  \n",
       "                                             \n",
       "pid tsh                                      \n",
       "1   2019-11-01_00        0   Friday   False  \n",
       "    2019-11-01_01        0   Friday   False  \n",
       "    2019-11-01_02        0   Friday   False  \n",
       "    2019-11-01_03        0   Friday   False  \n",
       "    2019-11-01_04        0   Friday   False  \n",
       "...                    ...      ...     ...  \n",
       "3   2020-03-31_19        1  Tuesday   False  \n",
       "    2020-03-31_20        1  Tuesday   False  \n",
       "    2020-03-31_21        1  Tuesday   False  \n",
       "    2020-03-31_22        1  Tuesday   False  \n",
       "    2020-03-31_23        1  Tuesday   False  \n",
       "\n",
       "[10944 rows x 8 columns]"
      ]
     },
     "execution_count": 2,
     "metadata": {},
     "output_type": "execute_result"
    }
   ],
   "source": [
    "calories_to_df(PATH, [1,2,3])\n",
    "df = calories_to_df(PATH, [1,2,3])\n",
    "df['pid'] = [x[0] for x in list(df.index)]\n",
    "df['ts'] = [x[1] for x in list(df.index)]\n",
    "df['tsh'] =  df['ts'].apply(lambda x: x.strftime('%Y-%m-%d_%H'))\n",
    "df_agg = df.groupby(['pid', 'tsh']).agg({'calories':['mean', 'std']})\n",
    "df_agg['c_mean'] = df_agg['calories']['mean']\n",
    "df_agg['c_std'] = df_agg['calories']['std']\n",
    "df_agg = df_agg.drop(['calories'], axis=1)\n",
    "df_agg['ts'] = [x[1] for x in list(df_agg.index)]\n",
    "df_agg['date'] = df_agg['ts'].apply(lambda x: du.parser.parse(x[0:-3]))\n",
    "df_agg['hour'] =  df_agg['ts'].apply(lambda x: int(x[-2:])) \n",
    "df_agg['eight_part_day'] = df_agg['hour'].apply(lambda x: int(x/3)) \n",
    "df_agg['quarter_day'] = df_agg['hour'].apply(lambda x: int(x/6)) \n",
    "df_agg['half_day'] = df_agg['hour'].apply(lambda x: int(x/12)) \n",
    "df_agg['week_day'] = df_agg['date'].apply(lambda x: x.strftime('%A'))\n",
    "df_agg['weekend']= df_agg['week_day'].apply(lambda x: True if x in ['Saturday', 'Sunday'] else False) \n",
    "df_agg = df_agg.drop(['date', 'ts'], axis=1)\n",
    "df_agg"
   ]
  },
  {
   "cell_type": "markdown",
   "id": "8901c8fc-31bd-4e83-a176-45b731bd7497",
   "metadata": {},
   "source": [
    "How many pairs $(mean, standard\\ deviation)$ pairs do we have:"
   ]
  },
  {
   "cell_type": "code",
   "execution_count": 3,
   "id": "09e8e56d-53f2-4e2d-ae75-b71985829229",
   "metadata": {},
   "outputs": [
    {
     "data": {
      "text/plain": [
       "7729"
      ]
     },
     "execution_count": 3,
     "metadata": {},
     "output_type": "execute_result"
    }
   ],
   "source": [
    "mean_std_list =  [(x[0], x[1]) for x in  [list(x) for x in list(df_agg.to_numpy())]]\n",
    "mean_std_set = set(mean_std_list)\n",
    "len(mean_std_set)"
   ]
  },
  {
   "cell_type": "markdown",
   "id": "e683beda-e4f0-43e1-9e3e-f654931ca85e",
   "metadata": {},
   "source": [
    "We can apply a k-means clustering in order to reduce  the numbers of $(mean, standard\\ deviation)$ pairs.\n",
    "In such a case we have to normalize the values because they represent two different measures:"
   ]
  },
  {
   "cell_type": "code",
   "execution_count": 4,
   "id": "3a4d3946-af1a-44cf-9fe5-69a939590d78",
   "metadata": {},
   "outputs": [
    {
     "data": {
      "text/plain": [
       "(1.16,\n",
       " 15.409500000000001,\n",
       " 14.249500000000001,\n",
       " 0.0,\n",
       " 7.800998043854772,\n",
       " 7.800998043854772)"
      ]
     },
     "execution_count": 4,
     "metadata": {},
     "output_type": "execute_result"
    }
   ],
   "source": [
    "mean_list = [x[0] for x in mean_std_list] \n",
    "min_mean, max_mean = min(mean_list), max(mean_list)\n",
    "std_list = [x[1] for x in mean_std_list] \n",
    "min_std, max_std = min(std_list), max(std_list)\n",
    "mean_range = max_mean - min_mean\n",
    "std_range = max_std - min_std\n",
    "min_mean, max_mean, mean_range, min_std, max_std, std_range"
   ]
  },
  {
   "cell_type": "code",
   "execution_count": 5,
   "id": "ddfac14e-fb6f-491a-8ed8-da4ebf401f8c",
   "metadata": {},
   "outputs": [],
   "source": [
    "mean_range\n",
    "norm_mean_std_list = [ ((x[0] - min_mean)/mean_range, (x[1] - min_std)/std_range) for x in  mean_std_list   ]"
   ]
  },
  {
   "cell_type": "code",
   "execution_count": 6,
   "id": "d57e9fcb-a090-4042-a3d3-88c682798327",
   "metadata": {},
   "outputs": [],
   "source": [
    "points = np.array(norm_mean_std_list)\n",
    "points = np.array(mean_std_list)\n",
    "points = np.array(list(set(mean_std_list)))\n",
    "errors = []"
   ]
  },
  {
   "cell_type": "code",
   "execution_count": 16,
   "id": "b1ec540a-6cb7-4816-81a5-3437f4de62f9",
   "metadata": {},
   "outputs": [],
   "source": [
    "ncl = 6\n",
    "kmeans = KMeans(n_clusters=ncl, random_state=0).fit(points)\n",
    "cluster_indexes = kmeans.predict(points)"
   ]
  },
  {
   "cell_type": "code",
   "execution_count": 17,
   "id": "f97dde2b-327f-4938-b579-ce9e950d2105",
   "metadata": {},
   "outputs": [],
   "source": [
    "cluster_centers =  kmeans.cluster_centers_"
   ]
  },
  {
   "cell_type": "code",
   "execution_count": 18,
   "id": "1fc2d6d5-dad6-4f01-8e61-246bd12f1d34",
   "metadata": {},
   "outputs": [],
   "source": [
    "point_centers = [ cluster_centers[i] for i in cluster_indexes ]"
   ]
  },
  {
   "cell_type": "code",
   "execution_count": 19,
   "id": "e6b5f0c3-23cb-4478-9c2c-84618c920280",
   "metadata": {},
   "outputs": [
    {
     "data": {
      "image/png": "[encoded data removed]",
      "text/plain": [
       "<Figure size 432x288 with 1 Axes>"
      ]
     },
     "metadata": {
      "needs_background": "light"
     },
     "output_type": "display_data"
    }
   ],
   "source": [
    "plt.scatter(\n",
    "     [i[0] for i in points], \n",
    "     [i[1] for i in points],\n",
    "    c =  list(cluster_indexes)) \n",
    "plt.show()"
   ]
  },
  {
   "cell_type": "code",
   "execution_count": 11,
   "id": "e5f92e5d-a0a4-4e95-ba9d-e09d80a2d1a9",
   "metadata": {},
   "outputs": [
    {
     "data": {
      "text/plain": [
       "0.5020708661251145"
      ]
     },
     "execution_count": 11,
     "metadata": {},
     "output_type": "execute_result"
    }
   ],
   "source": [
    "error = np.array([ (distance.euclidean(point_centers[i], points[i]))**2 for i in range(len(points))]).sum()/len(points) \n",
    "error"
   ]
  },
  {
   "cell_type": "code",
   "execution_count": 12,
   "id": "bba3fb33-ed1f-4338-bfeb-32dd8681c70e",
   "metadata": {},
   "outputs": [],
   "source": [
    "errors.append((ncl, error))"
   ]
  },
  {
   "cell_type": "code",
   "execution_count": 13,
   "id": "d1f0c744-d81c-4f85-b3be-59feb24a6aa3",
   "metadata": {},
   "outputs": [],
   "source": [
    "errors = list(set(errors))\n",
    "errors.sort(key= lambda x: x[0])"
   ]
  },
  {
   "cell_type": "code",
   "execution_count": 14,
   "id": "52fdfc3e-c5c2-4197-a2f2-a3b060f28cc8",
   "metadata": {},
   "outputs": [
    {
     "data": {
      "text/plain": [
       "[(5, 0.5020708661251145)]"
      ]
     },
     "execution_count": 14,
     "metadata": {},
     "output_type": "execute_result"
    }
   ],
   "source": [
    "errors"
   ]
  },
  {
   "cell_type": "code",
   "execution_count": 15,
   "id": "a3577e7d-2257-4ca0-9059-26133d116ead",
   "metadata": {},
   "outputs": [
    {
     "data": {
      "text/plain": [
       "[<matplotlib.lines.Line2D at 0x7fbdb22cb280>]"
      ]
     },
     "execution_count": 15,
     "metadata": {},
     "output_type": "execute_result"
    },
    {
     "data": {
      "image/png": "[encoded data removed]",
      "text/plain": [
       "<Figure size 432x288 with 1 Axes>"
      ]
     },
     "metadata": {
      "needs_background": "light"
     },
     "output_type": "display_data"
    }
   ],
   "source": [
    "plt.plot([i[0] for i in errors], [i[1] for i in errors])"
   ]
  },
  {
   "cell_type": "markdown",
   "id": "958121ac-1912-4a49-9c77-2c162044ddb5",
   "metadata": {},
   "source": [
    "Let  us put everything together in a function"
   ]
  },
  {
   "cell_type": "code",
   "execution_count": 9,
   "id": "5a43b93e-0f55-45b9-8881-14e57cf25d46",
   "metadata": {},
   "outputs": [],
   "source": [
    "def calories_kmeans(df_cal, n_clusters=2,  normalized=False, ignore_cardinalities= False):\n",
    "    df = df_cal.copy()\n",
    "    df['pid'] = [x[0] for x in list(df.index)]\n",
    "    df['ts'] = [x[1] for x in list(df.index)]\n",
    "    df['tsh'] =  df['ts'].apply(lambda x: x.strftime('%Y-%m-%d %H:00:00'))\n",
    "    df_agg = df.groupby(['pid', 'tsh']).agg({'calories':['mean', 'std']})\n",
    "    df_agg['c_mean'] = df_agg['calories']['mean']\n",
    "    df_agg['c_std'] = df_agg['calories']['std']\n",
    "    df_agg = df_agg.drop(['calories'], axis=1)\n",
    "    df_agg['ts'] = [x[1] for x in list(df_agg.index)]\n",
    "    df_agg['date'] = df_agg['ts'].apply(lambda x: du.parser.parse(x[0:-3]))\n",
    "    df_agg['hour'] =  df_agg['ts'].apply(lambda x: int(x[-2:])) \n",
    "    df_agg['eight_part_day'] = df_agg['hour'].apply(lambda x: int(x/3)) \n",
    "    df_agg['quarter_day'] = df_agg['hour'].apply(lambda x: int(x/6)) \n",
    "    df_agg['half_day'] = df_agg['hour'].apply(lambda x: int(x/12)) \n",
    "    df_agg['week_day'] = df_agg['date'].apply(lambda x: x.strftime('%A'))\n",
    "    df_agg['weekend']= df_agg['week_day'].apply(lambda x: True if x in ['Saturday', 'Sunday'] else False) \n",
    "    df_agg = df_agg.drop(['date', 'ts'], axis=1)\n",
    "    mean_std_list =  [(x[0], x[1]) for x in  [list(x) for x in list(df_agg.to_numpy())]]\n",
    "    mean_std_set = set(mean_std_list)\n",
    "    mean_list = [x[0] for x in mean_std_list] \n",
    "    min_mean, max_mean = min(mean_list), max(mean_list)\n",
    "    std_list = [x[1] for x in mean_std_list] \n",
    "    min_std, max_std = min(std_list), max(std_list)\n",
    "    mean_range = max_mean - min_mean\n",
    "    std_range = max_std - min_std\n",
    "    norm_mean_std_list = [ ((x[0] - min_mean)/mean_range, (x[1] - min_std)/std_range) for x in  mean_std_list   ]\n",
    "    points = norm_mean_std_list if normalized else mean_std_list\n",
    "    points = list(set(points)) if ignore_cardinalities else points\n",
    "    kmeans = KMeans(n_clusters=n_clusters, random_state=0).fit(points)\n",
    "    cluster_indexes = kmeans.predict(points)\n",
    "    df_agg['cluster_index'] = cluster_indexes\n",
    "    cluster_centers =  kmeans.cluster_centers_\n",
    "    point_centers = [ cluster_centers[i] for i in cluster_indexes ]\n",
    "    df_agg['cluster_center'] = point_centers\n",
    "    return df_agg"
   ]
  },
  {
   "cell_type": "code",
   "execution_count": 10,
   "id": "88c227f0-973b-49de-9693-fc0346ccc721",
   "metadata": {},
   "outputs": [],
   "source": [
    "r  = calories_kmeans(calories_to_df(PATH, [1,2,3]))"
   ]
  },
  {
   "cell_type": "code",
   "execution_count": 11,
   "id": "7995114c-b3ce-444d-87ee-3fba033544b0",
   "metadata": {},
   "outputs": [
    {
     "data": {
      "text/html": [
       "<div>\n",
       "<style scoped>\n",
       "    .dataframe tbody tr th:only-of-type {\n",
       "        vertical-align: middle;\n",
       "    }\n",
       "\n",
       "    .dataframe tbody tr th {\n",
       "        vertical-align: top;\n",
       "    }\n",
       "\n",
       "    .dataframe thead tr th {\n",
       "        text-align: left;\n",
       "    }\n",
       "\n",
       "    .dataframe thead tr:last-of-type th {\n",
       "        text-align: right;\n",
       "    }\n",
       "</style>\n",
       "<table border=\"1\" class=\"dataframe\">\n",
       "  <thead>\n",
       "    <tr>\n",
       "      <th></th>\n",
       "      <th></th>\n",
       "      <th>c_mean</th>\n",
       "      <th>c_std</th>\n",
       "      <th>hour</th>\n",
       "      <th>eight_part_day</th>\n",
       "      <th>quarter_day</th>\n",
       "      <th>half_day</th>\n",
       "      <th>week_day</th>\n",
       "      <th>weekend</th>\n",
       "      <th>cluster_index</th>\n",
       "      <th>cluster_center</th>\n",
       "    </tr>\n",
       "    <tr>\n",
       "      <th></th>\n",
       "      <th></th>\n",
       "      <th></th>\n",
       "      <th></th>\n",
       "      <th></th>\n",
       "      <th></th>\n",
       "      <th></th>\n",
       "      <th></th>\n",
       "      <th></th>\n",
       "      <th></th>\n",
       "      <th></th>\n",
       "      <th></th>\n",
       "    </tr>\n",
       "    <tr>\n",
       "      <th>pid</th>\n",
       "      <th>tsh</th>\n",
       "      <th></th>\n",
       "      <th></th>\n",
       "      <th></th>\n",
       "      <th></th>\n",
       "      <th></th>\n",
       "      <th></th>\n",
       "      <th></th>\n",
       "      <th></th>\n",
       "      <th></th>\n",
       "      <th></th>\n",
       "    </tr>\n",
       "  </thead>\n",
       "  <tbody>\n",
       "    <tr>\n",
       "      <th rowspan=\"5\" valign=\"top\">1</th>\n",
       "      <th>2019-11-01 00:00:00</th>\n",
       "      <td>1.390000</td>\n",
       "      <td>0.000000</td>\n",
       "      <td>0</td>\n",
       "      <td>0</td>\n",
       "      <td>0</td>\n",
       "      <td>0</td>\n",
       "      <td>Friday</td>\n",
       "      <td>False</td>\n",
       "      <td>0</td>\n",
       "      <td>[1.6633969445044274, 0.5701456191355561]</td>\n",
       "    </tr>\n",
       "    <tr>\n",
       "      <th>2019-11-01 01:00:00</th>\n",
       "      <td>1.397000</td>\n",
       "      <td>0.054222</td>\n",
       "      <td>0</td>\n",
       "      <td>0</td>\n",
       "      <td>0</td>\n",
       "      <td>0</td>\n",
       "      <td>Friday</td>\n",
       "      <td>False</td>\n",
       "      <td>0</td>\n",
       "      <td>[1.6633969445044274, 0.5701456191355561]</td>\n",
       "    </tr>\n",
       "    <tr>\n",
       "      <th>2019-11-01 02:00:00</th>\n",
       "      <td>1.392333</td>\n",
       "      <td>0.018074</td>\n",
       "      <td>0</td>\n",
       "      <td>0</td>\n",
       "      <td>0</td>\n",
       "      <td>0</td>\n",
       "      <td>Friday</td>\n",
       "      <td>False</td>\n",
       "      <td>0</td>\n",
       "      <td>[1.6633969445044274, 0.5701456191355561]</td>\n",
       "    </tr>\n",
       "    <tr>\n",
       "      <th>2019-11-01 03:00:00</th>\n",
       "      <td>1.399333</td>\n",
       "      <td>0.035217</td>\n",
       "      <td>0</td>\n",
       "      <td>0</td>\n",
       "      <td>0</td>\n",
       "      <td>0</td>\n",
       "      <td>Friday</td>\n",
       "      <td>False</td>\n",
       "      <td>0</td>\n",
       "      <td>[1.6633969445044274, 0.5701456191355561]</td>\n",
       "    </tr>\n",
       "    <tr>\n",
       "      <th>2019-11-01 04:00:00</th>\n",
       "      <td>1.399333</td>\n",
       "      <td>0.035217</td>\n",
       "      <td>0</td>\n",
       "      <td>0</td>\n",
       "      <td>0</td>\n",
       "      <td>0</td>\n",
       "      <td>Friday</td>\n",
       "      <td>False</td>\n",
       "      <td>0</td>\n",
       "      <td>[1.6633969445044274, 0.5701456191355561]</td>\n",
       "    </tr>\n",
       "    <tr>\n",
       "      <th>...</th>\n",
       "      <th>...</th>\n",
       "      <td>...</td>\n",
       "      <td>...</td>\n",
       "      <td>...</td>\n",
       "      <td>...</td>\n",
       "      <td>...</td>\n",
       "      <td>...</td>\n",
       "      <td>...</td>\n",
       "      <td>...</td>\n",
       "      <td>...</td>\n",
       "      <td>...</td>\n",
       "    </tr>\n",
       "    <tr>\n",
       "      <th rowspan=\"5\" valign=\"top\">3</th>\n",
       "      <th>2020-03-31 19:00:00</th>\n",
       "      <td>2.070667</td>\n",
       "      <td>1.175683</td>\n",
       "      <td>0</td>\n",
       "      <td>0</td>\n",
       "      <td>0</td>\n",
       "      <td>0</td>\n",
       "      <td>Tuesday</td>\n",
       "      <td>False</td>\n",
       "      <td>0</td>\n",
       "      <td>[1.6633969445044274, 0.5701456191355561]</td>\n",
       "    </tr>\n",
       "    <tr>\n",
       "      <th>2020-03-31 20:00:00</th>\n",
       "      <td>1.552000</td>\n",
       "      <td>0.541876</td>\n",
       "      <td>0</td>\n",
       "      <td>0</td>\n",
       "      <td>0</td>\n",
       "      <td>0</td>\n",
       "      <td>Tuesday</td>\n",
       "      <td>False</td>\n",
       "      <td>0</td>\n",
       "      <td>[1.6633969445044274, 0.5701456191355561]</td>\n",
       "    </tr>\n",
       "    <tr>\n",
       "      <th>2020-03-31 21:00:00</th>\n",
       "      <td>1.340000</td>\n",
       "      <td>0.000000</td>\n",
       "      <td>0</td>\n",
       "      <td>0</td>\n",
       "      <td>0</td>\n",
       "      <td>0</td>\n",
       "      <td>Tuesday</td>\n",
       "      <td>False</td>\n",
       "      <td>0</td>\n",
       "      <td>[1.6633969445044274, 0.5701456191355561]</td>\n",
       "    </tr>\n",
       "    <tr>\n",
       "      <th>2020-03-31 22:00:00</th>\n",
       "      <td>1.340000</td>\n",
       "      <td>0.000000</td>\n",
       "      <td>0</td>\n",
       "      <td>0</td>\n",
       "      <td>0</td>\n",
       "      <td>0</td>\n",
       "      <td>Tuesday</td>\n",
       "      <td>False</td>\n",
       "      <td>0</td>\n",
       "      <td>[1.6633969445044274, 0.5701456191355561]</td>\n",
       "    </tr>\n",
       "    <tr>\n",
       "      <th>2020-03-31 23:00:00</th>\n",
       "      <td>1.340000</td>\n",
       "      <td>0.000000</td>\n",
       "      <td>0</td>\n",
       "      <td>0</td>\n",
       "      <td>0</td>\n",
       "      <td>0</td>\n",
       "      <td>Tuesday</td>\n",
       "      <td>False</td>\n",
       "      <td>0</td>\n",
       "      <td>[1.6633969445044274, 0.5701456191355561]</td>\n",
       "    </tr>\n",
       "  </tbody>\n",
       "</table>\n",
       "<p>10944 rows × 10 columns</p>\n",
       "</div>"
      ],
      "text/plain": [
       "                           c_mean     c_std hour eight_part_day quarter_day  \\\n",
       "                                                                              \n",
       "pid tsh                                                                       \n",
       "1   2019-11-01 00:00:00  1.390000  0.000000    0              0           0   \n",
       "    2019-11-01 01:00:00  1.397000  0.054222    0              0           0   \n",
       "    2019-11-01 02:00:00  1.392333  0.018074    0              0           0   \n",
       "    2019-11-01 03:00:00  1.399333  0.035217    0              0           0   \n",
       "    2019-11-01 04:00:00  1.399333  0.035217    0              0           0   \n",
       "...                           ...       ...  ...            ...         ...   \n",
       "3   2020-03-31 19:00:00  2.070667  1.175683    0              0           0   \n",
       "    2020-03-31 20:00:00  1.552000  0.541876    0              0           0   \n",
       "    2020-03-31 21:00:00  1.340000  0.000000    0              0           0   \n",
       "    2020-03-31 22:00:00  1.340000  0.000000    0              0           0   \n",
       "    2020-03-31 23:00:00  1.340000  0.000000    0              0           0   \n",
       "\n",
       "                        half_day week_day weekend cluster_index  \\\n",
       "                                                                  \n",
       "pid tsh                                                           \n",
       "1   2019-11-01 00:00:00        0   Friday   False             0   \n",
       "    2019-11-01 01:00:00        0   Friday   False             0   \n",
       "    2019-11-01 02:00:00        0   Friday   False             0   \n",
       "    2019-11-01 03:00:00        0   Friday   False             0   \n",
       "    2019-11-01 04:00:00        0   Friday   False             0   \n",
       "...                          ...      ...     ...           ...   \n",
       "3   2020-03-31 19:00:00        0  Tuesday   False             0   \n",
       "    2020-03-31 20:00:00        0  Tuesday   False             0   \n",
       "    2020-03-31 21:00:00        0  Tuesday   False             0   \n",
       "    2020-03-31 22:00:00        0  Tuesday   False             0   \n",
       "    2020-03-31 23:00:00        0  Tuesday   False             0   \n",
       "\n",
       "                                                   cluster_center  \n",
       "                                                                   \n",
       "pid tsh                                                            \n",
       "1   2019-11-01 00:00:00  [1.6633969445044274, 0.5701456191355561]  \n",
       "    2019-11-01 01:00:00  [1.6633969445044274, 0.5701456191355561]  \n",
       "    2019-11-01 02:00:00  [1.6633969445044274, 0.5701456191355561]  \n",
       "    2019-11-01 03:00:00  [1.6633969445044274, 0.5701456191355561]  \n",
       "    2019-11-01 04:00:00  [1.6633969445044274, 0.5701456191355561]  \n",
       "...                                                           ...  \n",
       "3   2020-03-31 19:00:00  [1.6633969445044274, 0.5701456191355561]  \n",
       "    2020-03-31 20:00:00  [1.6633969445044274, 0.5701456191355561]  \n",
       "    2020-03-31 21:00:00  [1.6633969445044274, 0.5701456191355561]  \n",
       "    2020-03-31 22:00:00  [1.6633969445044274, 0.5701456191355561]  \n",
       "    2020-03-31 23:00:00  [1.6633969445044274, 0.5701456191355561]  \n",
       "\n",
       "[10944 rows x 10 columns]"
      ]
     },
     "execution_count": 11,
     "metadata": {},
     "output_type": "execute_result"
    }
   ],
   "source": [
    "r"
   ]
  },
  {
   "cell_type": "markdown",
   "id": "ba205cef-c49b-4356-ab05-95b1b749e62b",
   "metadata": {},
   "source": [
    "## Deal with Categorical Labels and the whole tuple\n",
    "\n",
    "If it is the case that even after the reduction of real labels the value $|F_{fr}|$ is still \n",
    "too big then we can apply word2vec techniques  for assigning a dense vector $v_t \\in \\bbR^{n_E}$ to each tuple $t \\in F_fr$\n",
    "and then **collapse** similar tuples $t,t'$ into the same group $T$ if and only if $\\cos\\mbox{-}dist(v_{t}, v_{t'})> \\epsilon$\n",
    "for a given threshold $0 < \\epsilon < 1$. Take into consideration that in such a case you have the following parameters to\n",
    "ask the user:\n",
    "- $\\epsilon$;\n",
    "- the size of the embedding vectors $n_E$;\n",
    "- the fact that you will consider time-frame of fixed duration-size $D$ or fixed-cardinality size $C$;\n",
    "- if fixed duration-size $D$ is chosen then the duration stride $S_D$ should be chosen \n",
    "  (e.g., we may consider a time-frame of $6$ hours with strides of half an hour);\n",
    "- if we choose fixed-cardinality size $C$ is chosen then the step stride $C_D$ should be chosen, e.g., we may consider a time-frame of $5$ events, that is, range $radius=2$,  with strides of $2$ events;\n",
    "- the use of either $skip\\mbox{-}gram$ or $cbow$ method for computing the embeddings."
   ]
  },
  {
   "cell_type": "markdown",
   "id": "1a746d21-5df4-41b7-a60e-bb38eeff1b5f",
   "metadata": {},
   "source": [
    "## Reference"
   ]
  },
  {
   "cell_type": "markdown",
   "id": "d1c6a5f4-7d2c-4ebd-a534-0891526b2f78",
   "metadata": {},
   "source": [
    "To the best of my knowledge the first paper talking about $k$-means \n",
    "clustering is the following:\n",
    "\n",
    "- MacQueen, James. \"Some methods for classification and analysis of multivariate observations.\" In Proceedings of the fifth Berkeley symposium on mathematical statistics and probability, vol. 1, no. 14, pp. 281-297. 1967.\n",
    "\n",
    "However, you will find  online a huge amount of resources/variation application of the method, including various strategies/measures, such as the so called ''elbow-method'', \n",
    "for determining automatically the best number of clusters."
   ]
  },
  {
   "cell_type": "code",
   "execution_count": null,
   "id": "323cc9cb-75ea-4fb0-8071-2a503d695194",
   "metadata": {},
   "outputs": [],
   "source": []
  }
 ],
 "metadata": {
  "kernelspec": {
   "display_name": "Python 3 (ipykernel)",
   "language": "python",
   "name": "python3"
  },
  "language_info": {
   "codemirror_mode": {
    "name": "ipython",
    "version": 3
   },
   "file_extension": ".py",
   "mimetype": "text/x-python",
   "name": "python",
   "nbconvert_exporter": "python",
   "pygments_lexer": "ipython3",
   "version": "3.9.7"
  }
 },
 "nbformat": 4,
 "nbformat_minor": 5
}
