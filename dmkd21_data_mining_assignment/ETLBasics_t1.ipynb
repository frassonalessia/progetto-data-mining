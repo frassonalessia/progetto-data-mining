{
 "cells": [
  {
   "cell_type": "code",
   "execution_count": null,
   "id": "1ec6c276-e1e1-4425-bd4c-b5c15238e255",
   "metadata": {},
   "outputs": [],
   "source": [
    "import pandas as pd\n",
    "import json as json\n",
    "import datetime as dt\n",
    "import dateutil as du"
   ]
  },
  {
   "cell_type": "markdown",
   "id": "048be5cd-df8c-4592-963f-faad13368f71",
   "metadata": {},
   "source": [
    "You may download the fitbit dataset  [https://datasets.simula.no/pmdata/](https://datasets.simula.no/pmdata/) the site also feature useful references on the structure of the dataset. Please change the below varibale to the path you extracted  teh dataset:"
   ]
  },
  {
   "cell_type": "code",
   "execution_count": null,
   "id": "4aef34d2-12aa-421c-95ee-d5ff602054a7",
   "metadata": {},
   "outputs": [],
   "source": [
    "PATH = '../../../datasets/pmdata/'"
   ]
  },
  {
   "cell_type": "markdown",
   "id": "b9589499-4043-46d7-9227-c4401b9ee6bd",
   "metadata": {},
   "source": [
    "The structure of the dataset is the following:"
   ]
  },
  {
   "cell_type": "code",
   "execution_count": null,
   "id": "cee18ecd-708e-428e-b32b-0d6b8ff9c3c8",
   "metadata": {},
   "outputs": [],
   "source": [
    "!ls $PATH"
   ]
  },
  {
   "cell_type": "markdown",
   "id": "158534d7-ed7d-4872-ba43-ce1b181ae9cc",
   "metadata": {},
   "source": [
    "Each partecipant has an associated folder that  contains varous informations on a six months\n",
    "period where they accepted to self-monitoring themselves, we are interested in the fitbit files contained in the folder ''pNUMBER/fitbit'':"
   ]
  },
  {
   "cell_type": "code",
   "execution_count": null,
   "id": "02d04219-60cd-4419-bab8-354a45a39f4d",
   "metadata": {},
   "outputs": [],
   "source": [
    "p_id = 1\n",
    "p_folder = PATH + \"p{:02d}\".format(p_id) + '/fitbit/'\n",
    "!ls {p_folder}"
   ]
  },
  {
   "cell_type": "markdown",
   "id": "555b4fc4-a001-439b-a1ab-62430d60147f",
   "metadata": {},
   "source": [
    "Let us begin with the **calories.json** file which, according to the description, shows how many calories the person have burned the last minute."
   ]
  },
  {
   "cell_type": "code",
   "execution_count": null,
   "id": "d6b42a6a-1070-430b-9c0a-ef73ddc0a498",
   "metadata": {},
   "outputs": [],
   "source": [
    "calories_file = 'calories.json'\n",
    "\n",
    "with open(p_folder + calories_file) as file:\n",
    "    dict_cal = json.load(file) \n",
    "    \n",
    "nrows  = 10  \n",
    "\n",
    "print(f'First {nrows} rows of json list of length {len(dict_cal)}:\\n' +  '\\n'.join([str(d) for d in dict_cal[0:nrows]]))"
   ]
  },
  {
   "cell_type": "markdown",
   "id": "429ac6a6-de8e-4bcb-bfb8-540108647b14",
   "metadata": {},
   "source": [
    "As we will see the json structure of these files does not feature arbitrary nesting depth and thus it is easy to turn them into a dataframe. First we convert the data into their appropriate types and we assign suitable names:"
   ]
  },
  {
   "cell_type": "code",
   "execution_count": null,
   "id": "ddb66849-d099-4eca-acf4-fa9b5612a834",
   "metadata": {},
   "outputs": [],
   "source": [
    "for d in dict_cal:\n",
    "    d['TS'] = du.parser.parse(d['dateTime'])\n",
    "    d['calories'] = float(d['value'])\n",
    "    d.pop('dateTime')\n",
    "    d.pop('value')\n",
    "dict_cal[0:nrows]"
   ]
  },
  {
   "cell_type": "markdown",
   "id": "a50ba51a-af69-4259-ba07-15018ac48840",
   "metadata": {},
   "source": [
    "Then we turn the dictionary into a dataframe:"
   ]
  },
  {
   "cell_type": "code",
   "execution_count": null,
   "id": "198cc924-56cb-4695-b3b1-4da9295b0a06",
   "metadata": {},
   "outputs": [],
   "source": [
    "df_cal = pd.DataFrame.from_dict(dict_cal)\n",
    "df_cal"
   ]
  },
  {
   "cell_type": "markdown",
   "id": "a38d5c7f-7990-40e6-91bf-7529fd17d7d9",
   "metadata": {},
   "source": [
    "We want the index to be the timestamp (as it should be):"
   ]
  },
  {
   "cell_type": "code",
   "execution_count": null,
   "id": "88262591-859f-45dc-9b06-5e6a1faf7c7e",
   "metadata": {},
   "outputs": [],
   "source": [
    "df_cal = df_cal.set_index('TS')\n",
    "df_cal"
   ]
  },
  {
   "cell_type": "markdown",
   "id": "b17183e4-18ad-4185-b365-73f39e30b933",
   "metadata": {},
   "source": [
    "The only thing missing is to add the partecipant id for \n",
    "dealing with multiple partecipants and allow comparisons:"
   ]
  },
  {
   "cell_type": "code",
   "execution_count": null,
   "id": "8435b061-32dd-4789-894d-b0339714f203",
   "metadata": {},
   "outputs": [],
   "source": [
    "df_cal['partecipant'] = p_id\n",
    "df_cal"
   ]
  },
  {
   "cell_type": "markdown",
   "id": "1dfd68fd-8010-4aee-800d-0c77b63b1506",
   "metadata": {},
   "source": [
    "let us now wrap what we have done so far into a python function \n",
    "```python \n",
    "calories_to_df(root_path, partecipants)\n",
    "```\n",
    "that perform all the above operations\n",
    "for each partecipant in the ***participants***\n",
    "list starting from the designated pmdata root folder ***root_path*** and returns the concatenation of the above data frames for each selected partecipant: "
   ]
  },
  {
   "cell_type": "code",
   "execution_count": null,
   "id": "3332dced-bdef-4baf-845c-dab4a6fde629",
   "metadata": {},
   "outputs": [],
   "source": [
    "def calories_to_df(root_path, partecipants):\n",
    "    dfs = []\n",
    "    for p_id in partecipants: \n",
    "        p_folder = root_path + \"p{:02d}\".format(p_id) + '/fitbit/'\n",
    "        calories_file = 'calories.json'\n",
    "        with open(p_folder + calories_file) as file:\n",
    "            dict_cal = json.load(file)\n",
    "        for d in dict_cal:\n",
    "            d['TS'] = du.parser.parse(d['dateTime'])\n",
    "            d['calories'] = float(d['value'])\n",
    "            d.pop('dateTime')\n",
    "            d.pop('value')\n",
    "        df_cal = pd.DataFrame.from_dict(dict_cal)\n",
    "        df_cal['partecipant'] = p_id\n",
    "        df_cal = df_cal.set_index(['partecipant','TS'])\n",
    "        dfs.append(df_cal)\n",
    "    r = pd.concat(dfs)\n",
    "    r = r.sort_index()\n",
    "    return r"
   ]
  },
  {
   "cell_type": "markdown",
   "id": "d8304dc3-3525-4a56-a815-76d0ecbe4f28",
   "metadata": {},
   "source": [
    "The only difference is that we have put the partecipant in the index for avoiding duplications in the index, exactly like we will do for a key in a table of a relational database. \n",
    "Let us notice that the index is lexicographically sorted for speeding up the \n",
    "slicing which is useful especially when we deal with time series.\n",
    "Let us test the end result:"
   ]
  },
  {
   "cell_type": "code",
   "execution_count": null,
   "id": "eaf316ed-52f6-4ec1-9b85-c0b9144293b5",
   "metadata": {},
   "outputs": [],
   "source": [
    "calories = calories_to_df(PATH, [1,10])\n"
   ]
  },
  {
   "cell_type": "code",
   "execution_count": null,
   "id": "395ba49c-5a51-4a81-8ab7-9010d9aee321",
   "metadata": {},
   "outputs": [],
   "source": [
    "calories"
   ]
  },
  {
   "cell_type": "code",
   "execution_count": null,
   "id": "c38ed3fb-e6c5-4978-bc90-00118c9c9564",
   "metadata": {},
   "outputs": [],
   "source": [
    "calories.loc[1].loc[dt.datetime(2020,1,1):dt.datetime(2020,1,10)]"
   ]
  },
  {
   "cell_type": "markdown",
   "id": "0f2a2a25-ddb2-4941-888c-a25968298330",
   "metadata": {},
   "source": [
    "# Data Mining Project (part 1) "
   ]
  },
  {
   "cell_type": "markdown",
   "id": "a5756957-7d7d-45c5-897f-de361fa1ced1",
   "metadata": {},
   "source": [
    "Write a  function similar to\n",
    "```python\n",
    "calories_to_df\n",
    "```\n",
    "\n",
    "For the json files:\n",
    "\n",
    "- sedentary_minutes.json\n",
    "- distance.json\n",
    "- sleep.json\n",
    "- exercise.json\n",
    "- heart_rate.json\n",
    "- steps.json\n",
    "- lightly_active_minutes.json\n",
    "- time_in_heart_rate_zones.json\n",
    "- moderately_active_minutes.json\n",
    "- very_active_minutes.json\n",
    "- resting_heart_rate.json\n"
   ]
  },
  {
   "cell_type": "markdown",
   "id": "22d24544-9056-4763-842e-cebe657a97f4",
   "metadata": {},
   "source": [
    "### Note: \n",
    "it is NOT mandatory to import all the fields, in particular, for the file **exercise.json** there are many fields which are not so informative from an anlysis point of view, the structure is the following:"
   ]
  },
  {
   "cell_type": "code",
   "execution_count": null,
   "id": "3b6562ee-4acf-48d2-9677-a8d1e0334824",
   "metadata": {},
   "outputs": [],
   "source": [
    "with open(p_folder + 'exercise.json') as file:\n",
    "    dict_ex = json.load(file)\n",
    "dict_ex[0]"
   ]
  },
  {
   "cell_type": "markdown",
   "id": "5cdfdd53-f88f-48e3-844a-5b2ad91d5fda",
   "metadata": {},
   "source": [
    "Unfortunately pandas just read the first level of a dictionary:"
   ]
  },
  {
   "cell_type": "code",
   "execution_count": null,
   "id": "c34ef149-8dd7-45a3-a99f-df71e531db31",
   "metadata": {},
   "outputs": [],
   "source": [
    "df_ex = pd.DataFrame.from_dict(dict_ex)\n",
    "df_ex.iloc[0:1]"
   ]
  },
  {
   "cell_type": "markdown",
   "id": "ea59f159-34b2-4172-aa5a-b525977cc881",
   "metadata": {},
   "source": [
    "A good dataframe, in my opinion,  for storing such  information will represent the following columns:\n",
    "\n",
    "INDEX:\n",
    "- startTime \n",
    "- patID\n",
    "\n",
    "COLUMNS:\n",
    "- activityName\n",
    "- activityLevelSedentary\n",
    "- activityLevelLightly\n",
    "- activityLevelFairly\n",
    "- activityLevelVery\n",
    "- averageHeartRate\n",
    "- calories\n",
    "- activeDuration\n",
    "- steps\n",
    "- heartRateZonesOutofRange\n",
    "- heartRateZonesFatBurn\n",
    "- heartRateZonesCardio\n",
    "- heartRateZonesPeak\n",
    "- elevationGain\n"
   ]
  },
  {
   "cell_type": "markdown",
   "id": "a8ee540b-74db-4db9-a75f-c1fe5dd3f638",
   "metadata": {},
   "source": [
    "### Note:\n",
    "\n",
    "I am just suggesting how to tranform the information if made a different choice I encourage you to do so but you have to motivate it."
   ]
  },
  {
   "cell_type": "markdown",
   "id": "27e308c9-1b96-4715-bf07-61a645792b52",
   "metadata": {},
   "source": [
    "Do the same for the following csv files in the */pmsys* folder:"
   ]
  },
  {
   "cell_type": "code",
   "execution_count": null,
   "id": "e86253ac-61bc-49db-951a-007250eb0385",
   "metadata": {},
   "outputs": [],
   "source": [
    "!ls $PATH/p01/pmsys"
   ]
  },
  {
   "cell_type": "markdown",
   "id": "1672de61-4001-4408-9a47-07a553ded881",
   "metadata": {},
   "source": [
    "If you want to know more on SRPE here are some references just for satisfying your curiosity."
   ]
  },
  {
   "cell_type": "markdown",
   "id": "c045c09d-5991-43a1-bbe4-c9bbb0e29a27",
   "metadata": {},
   "source": [
    "#### More on SRPE: Session Rating of Perceived Extension\n",
    "\n",
    "<a href='https://www.ncbi.nlm.nih.gov/pmc/articles/PMC5673663/' /> A new approach to monitoring exercise training </a>\n",
    "\n",
    "<a href='https://pubmed.ncbi.nlm.nih.gov/11708692/'>\n",
    "Session-RPE Method for Training Load Monitoring: Validity, Ecological Usefulness, and Influencing Factors\n",
    "</a>    \n",
    "\n",
    "\n",
    "\n"
   ]
  },
  {
   "cell_type": "code",
   "execution_count": null,
   "id": "dcacf4f5-6836-49c1-807c-16cf6fd5c425",
   "metadata": {},
   "outputs": [],
   "source": []
  }
 ],
 "metadata": {
  "kernelspec": {
   "display_name": "Python 3 (ipykernel)",
   "language": "python",
   "name": "python3"
  },
  "language_info": {
   "codemirror_mode": {
    "name": "ipython",
    "version": 3
   },
   "file_extension": ".py",
   "mimetype": "text/x-python",
   "name": "python",
   "nbconvert_exporter": "python",
   "pygments_lexer": "ipython3",
   "version": "3.9.7"
  }
 },
 "nbformat": 4,
 "nbformat_minor": 5
}
