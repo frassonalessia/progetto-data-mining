{
 "cells": [
  {
   "cell_type": "markdown",
   "id": "81d546fc-8359-4392-ac3c-57078a7e3a10",
   "metadata": {},
   "source": [
    "## Process Mining\n",
    "\n",
    "This part is very easy it consists of turnig the sequence of transactions computed \n",
    "in task $t_5$ into an .xes or .sv file in order that it can be correctly turned by \n",
    "Apromore into a process."
   ]
  },
  {
   "cell_type": "code",
   "execution_count": 1,
   "id": "dd591112-d52f-4c48-b4b7-dd41be657a85",
   "metadata": {},
   "outputs": [],
   "source": [
    "import nbimporter\n",
    "from MakeTransactions_t5 import make_cal_transactions\n",
    "PATH = '../../../datasets/pmdata/'"
   ]
  },
  {
   "cell_type": "code",
   "execution_count": 2,
   "id": "829412cc-6d0e-4c30-acc6-3bd2bc5eedfa",
   "metadata": {},
   "outputs": [],
   "source": [
    "t = make_cal_transactions(PATH, [1,2,3,4], n_clusters=7)\n",
    "for tr in t:\n",
    "    tr.sort(key = lambda x: x[0] )"
   ]
  },
  {
   "cell_type": "code",
   "execution_count": 3,
   "id": "727999a6-eac3-488e-96e5-c220c56f166e",
   "metadata": {},
   "outputs": [],
   "source": [
    "from xml.etree.ElementTree import Element, SubElement, Comment, tostring, ElementTree\n",
    "from xml.dom import minidom\n",
    "from datetime import *\n",
    "def time_string(year=1970, month=1, day=1, hour=0, minute=0, sec=0, msec=0 ):\n",
    "    return datetime(year,month,day,hour,minute,sec, msec * 1000).strftime(\"%Y-%m-%dT%H:%M:%S.%f\")[:-3] + \"Z\"\n",
    "\n",
    "def prettify(elem):\n",
    "    \"\"\"Return a pretty-printed XML string for the Element.\n",
    "    \"\"\"\n",
    "    rough_string = tostring(elem, 'utf-8')\n",
    "    reparsed = minidom.parseString(rough_string)\n",
    "    return reparsed.toprettyxml(indent=\"  \")"
   ]
  },
  {
   "cell_type": "code",
   "execution_count": 4,
   "id": "5d7b11b5-ed74-4790-a311-6b73f5e0ed23",
   "metadata": {},
   "outputs": [],
   "source": [
    "root = Element(\"log\", {'xes.version':\"2.0\", 'xes.features':\"nested-attributes\", 'openxes.version':\"2.27\"})"
   ]
  },
  {
   "cell_type": "code",
   "execution_count": 5,
   "id": "f971c8a5-fa90-42a0-8a45-ad91912dd232",
   "metadata": {},
   "outputs": [
    {
     "name": "stdout",
     "output_type": "stream",
     "text": [
      "<?xml version=\"1.0\" ?>\n",
      "<log xes.version=\"2.0\" xes.features=\"nested-attributes\" openxes.version=\"2.27\"/>\n",
      "\n"
     ]
    }
   ],
   "source": [
    "def current_tree():\n",
    "    print(prettify(root))\n",
    "current_tree() "
   ]
  },
  {
   "cell_type": "code",
   "execution_count": 6,
   "id": "0009e4c6-835d-497f-ba8e-101850f0e8b2",
   "metadata": {},
   "outputs": [
    {
     "data": {
      "text/plain": [
       "<Element 'extension' at 0x7fd01a65ea90>"
      ]
     },
     "execution_count": 6,
     "metadata": {},
     "output_type": "execute_result"
    }
   ],
   "source": [
    "SubElement(root, \"extension\", name=\"Lifecycle\", prefix=\"lifecycle\", uri=\"http://www.xes-standard.org/lifecycle.xesext\" )"
   ]
  },
  {
   "cell_type": "code",
   "execution_count": 7,
   "id": "3fb8f159-f694-47d2-8ef2-d0108f752bb1",
   "metadata": {},
   "outputs": [
    {
     "data": {
      "text/plain": [
       "<Element 'extension' at 0x7fd021f64db0>"
      ]
     },
     "execution_count": 7,
     "metadata": {},
     "output_type": "execute_result"
    }
   ],
   "source": [
    "SubElement(root, \"extension\", name=\"Organizational\", prefix=\"org\", uri=\"http://www.xes-standard.org/org.xesext\" )\n",
    "SubElement(root, \"extension\", name=\"Time\", prefix=\"time\", uri=\"http://www.xes-standard.org/time.xesext\" )\n",
    "SubElement(root, \"extension\", name=\"Concept\", prefix=\"concept\", uri=\"http://www.xes-standard.org/concept.xesext\" )\n",
    "SubElement(root, \"extension\", name=\"Cost\", prefix=\"cost\", uri=\"http://www.xes-standard.org/cost.xesext\" )"
   ]
  },
  {
   "cell_type": "code",
   "execution_count": 8,
   "id": "e5a2f652-e1c4-4a3a-9950-0d521f820d87",
   "metadata": {},
   "outputs": [
    {
     "name": "stdout",
     "output_type": "stream",
     "text": [
      "<?xml version=\"1.0\" ?>\n",
      "<log xes.version=\"2.0\" xes.features=\"nested-attributes\" openxes.version=\"2.27\">\n",
      "  <extension name=\"Lifecycle\" prefix=\"lifecycle\" uri=\"http://www.xes-standard.org/lifecycle.xesext\"/>\n",
      "  <extension name=\"Organizational\" prefix=\"org\" uri=\"http://www.xes-standard.org/org.xesext\"/>\n",
      "  <extension name=\"Time\" prefix=\"time\" uri=\"http://www.xes-standard.org/time.xesext\"/>\n",
      "  <extension name=\"Concept\" prefix=\"concept\" uri=\"http://www.xes-standard.org/concept.xesext\"/>\n",
      "  <extension name=\"Cost\" prefix=\"cost\" uri=\"http://www.xes-standard.org/cost.xesext\"/>\n",
      "</log>\n",
      "\n"
     ]
    }
   ],
   "source": [
    "current_tree() "
   ]
  },
  {
   "cell_type": "code",
   "execution_count": 14,
   "id": "5c9f67c7-f923-4618-a683-84b864ad6926",
   "metadata": {},
   "outputs": [
    {
     "data": {
      "text/plain": [
       "'1970-01-01T01:00:00.000Z'"
      ]
     },
     "execution_count": 14,
     "metadata": {},
     "output_type": "execute_result"
    }
   ],
   "source": [
    "time_string(hour=1)"
   ]
  },
  {
   "cell_type": "code",
   "execution_count": 10,
   "id": "2a31f320-840d-440b-8c79-a8689e01b741",
   "metadata": {},
   "outputs": [],
   "source": [
    "traces = [ SubElement(root,\"trace\") for _ in t ]"
   ]
  },
  {
   "cell_type": "code",
   "execution_count": 18,
   "id": "b1a64cfb-1d26-4f30-b3d6-742173e6f958",
   "metadata": {},
   "outputs": [],
   "source": [
    "for i, trace in enumerate(traces):\n",
    "    SubElement(trace,\"string\", key=\"concept:name\", value=f'trace_{i}' )\n",
    "    for item in t[i]:\n",
    "        e = SubElement(trace,\"event\")\n",
    "        SubElement(e, \"date\", key=\"time:timestamp\", value= time_string(hour=item[0]) )\n",
    "        SubElement(e,\"string\", key=\"concept:name\", value=item[1] )\n",
    "        SubElement(e,\"string\", key=\"org:group\", value=\"partecipant\" )\n",
    "        SubElement(e,\"string\", key=\"lifecycle:transition\", value=\"complete\" )"
   ]
  },
  {
   "cell_type": "code",
   "execution_count": 20,
   "id": "d5b95a71-6cff-4679-8e7a-9fdefa5d6dc4",
   "metadata": {},
   "outputs": [],
   "source": [
    "with open('test.xes', 'w') as f:\n",
    "    f.write(prettify(root))"
   ]
  },
  {
   "cell_type": "code",
   "execution_count": null,
   "id": "ee7b78bf-1667-458c-a72e-bed44f028864",
   "metadata": {},
   "outputs": [],
   "source": []
  }
 ],
 "metadata": {
  "kernelspec": {
   "display_name": "Python 3 (ipykernel)",
   "language": "python",
   "name": "python3"
  },
  "language_info": {
   "codemirror_mode": {
    "name": "ipython",
    "version": 3
   },
   "file_extension": ".py",
   "mimetype": "text/x-python",
   "name": "python",
   "nbconvert_exporter": "python",
   "pygments_lexer": "ipython3",
   "version": "3.9.7"
  }
 },
 "nbformat": 4,
 "nbformat_minor": 5
}
